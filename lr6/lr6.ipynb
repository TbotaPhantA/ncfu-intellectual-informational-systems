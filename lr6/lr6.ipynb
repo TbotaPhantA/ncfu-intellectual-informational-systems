{
 "cells": [
  {
   "cell_type": "code",
   "execution_count": 2,
   "metadata": {},
   "outputs": [],
   "source": [
    "from __future__ import division, print_function\n",
    "import numpy as np\n",
    "import pandas as pd\n",
    "import scipy\n",
    "from matplotlib import pyplot as plt\n",
    "import seaborn as sns\n",
    "\n",
    "from sklearn.model_selection import train_test_split\n",
    "from sklearn.linear_model import Ridge\n",
    "from sklearn.metrics import mean_squared_error\n",
    " \n",
    "%matplotlib inline"
   ]
  },
  {
   "cell_type": "code",
   "execution_count": 4,
   "metadata": {},
   "outputs": [
    {
     "name": "stdout",
     "output_type": "stream",
     "text": [
      "/////////////////////////////////////\n",
      "                                                               0\n",
      "url                             https://habrahabr.ru/post/18284/\n",
      "domain                                              habrahabr.ru\n",
      "post_id                                                    18284\n",
      "published                                    2008-01-01 18:19:00\n",
      "author                                                    @Tapac\n",
      "flow                                                     develop\n",
      "polling                                                    False\n",
      "content_len                                                 4305\n",
      "title             Новогодний подарок блоггерам — WordPress 2.3.2\n",
      "comments                                                       0\n",
      "favs                                                           0\n",
      "views                                                        236\n",
      "votes_plus                                                   0.0\n",
      "votes_minus                                                  0.0\n",
      "views_lognorm                                          -0.792687\n",
      "favs_lognorm                                           -1.344075\n",
      "comments_lognorm                                       -2.436871\n",
      "/////////////////////////////////////\n",
      "                                              0\n",
      "url           https://habrahabr.ru/post/314080/\n",
      "domain                             habrahabr.ru\n",
      "post_id                                  314080\n",
      "published                   2016-11-01 01:05:00\n",
      "author                                  @fsou11\n",
      "flow                                    develop\n",
      "polling                                    True\n",
      "content_len                               20132\n",
      "title        Опыт использования MassTransit 3.0\n"
     ]
    }
   ],
   "source": [
    "train_df = pd.read_csv('howpop_train.csv')\n",
    "test_df = pd.read_csv('howpop_test.csv')\n",
    "\n",
    "print('/////////////////////////////////////')\n",
    "print(train_df.head(1).T)\n",
    "print('/////////////////////////////////////')\n",
    "print(test_df.head(1).T)"
   ]
  },
  {
   "cell_type": "code",
   "execution_count": 5,
   "metadata": {},
   "outputs": [
    {
     "name": "stdout",
     "output_type": "stream",
     "text": [
      "<class 'pandas.core.frame.DataFrame'>\n",
      "RangeIndex: 134137 entries, 0 to 134136\n",
      "Data columns (total 17 columns):\n",
      " #   Column            Non-Null Count   Dtype  \n",
      "---  ------            --------------   -----  \n",
      " 0   url               134137 non-null  object \n",
      " 1   domain            134137 non-null  object \n",
      " 2   post_id           134137 non-null  int64  \n",
      " 3   published         134137 non-null  object \n",
      " 4   author            97657 non-null   object \n",
      " 5   flow              97048 non-null   object \n",
      " 6   polling           134137 non-null  bool   \n",
      " 7   content_len       134137 non-null  int64  \n",
      " 8   title             134137 non-null  object \n",
      " 9   comments          134137 non-null  int64  \n",
      " 10  favs              134137 non-null  int64  \n",
      " 11  views             134137 non-null  int64  \n",
      " 12  votes_plus        133566 non-null  float64\n",
      " 13  votes_minus       133566 non-null  float64\n",
      " 14  views_lognorm     134137 non-null  float64\n",
      " 15  favs_lognorm      134137 non-null  float64\n",
      " 16  comments_lognorm  134137 non-null  float64\n",
      "dtypes: bool(1), float64(5), int64(5), object(6)\n",
      "memory usage: 16.5+ MB\n",
      "None\n"
     ]
    }
   ],
   "source": [
    "print(train_df.info())"
   ]
  },
  {
   "cell_type": "code",
   "execution_count": 6,
   "metadata": {},
   "outputs": [
    {
     "name": "stdout",
     "output_type": "stream",
     "text": [
      "Ряд с датами столбца published\n",
      "0   2008-01-01 18:19:00\n",
      "1   2008-01-01 18:30:00\n",
      "2   2008-01-01 18:34:00\n",
      "3   2008-01-02 01:32:00\n",
      "4   2008-01-02 14:34:00\n",
      "Name: published, dtype: datetime64[ns]\n",
      "Размер объекта Series:  (134137,)\n"
     ]
    },
    {
     "data": {
      "text/plain": [
       "<Axes: >"
      ]
     },
     "execution_count": 6,
     "metadata": {},
     "output_type": "execute_result"
    },
    {
     "data": {
      "image/png": "[encoded data removed]",
      "text/plain": [
       "<Figure size 640x480 with 1 Axes>"
      ]
     },
     "metadata": {},
     "output_type": "display_data"
    }
   ],
   "source": [
    "ser_data = train_df['published'].apply(lambda ts: pd.to_datetime(ts))\n",
    "print('Ряд с датами столбца published')\n",
    "print(ser_data.head())\n",
    "print('Размер объекта Series: ', ser_data.shape)\n",
    "ser_data.apply(lambda el: el.value).plot()"
   ]
  },
  {
   "cell_type": "code",
   "execution_count": 9,
   "metadata": {},
   "outputs": [
    {
     "data": {
      "text/html": [
       "<div>\n",
       "<style scoped>\n",
       "    .dataframe tbody tr th:only-of-type {\n",
       "        vertical-align: middle;\n",
       "    }\n",
       "\n",
       "    .dataframe tbody tr th {\n",
       "        vertical-align: top;\n",
       "    }\n",
       "\n",
       "    .dataframe thead th {\n",
       "        text-align: right;\n",
       "    }\n",
       "</style>\n",
       "<table border=\"1\" class=\"dataframe\">\n",
       "  <thead>\n",
       "    <tr style=\"text-align: right;\">\n",
       "      <th></th>\n",
       "      <th>post_id</th>\n",
       "      <th>polling</th>\n",
       "      <th>content_len</th>\n",
       "      <th>comments</th>\n",
       "      <th>favs</th>\n",
       "      <th>views</th>\n",
       "      <th>votes_plus</th>\n",
       "      <th>votes_minus</th>\n",
       "      <th>views_lognorm</th>\n",
       "      <th>favs_lognorm</th>\n",
       "      <th>comments_lognorm</th>\n",
       "    </tr>\n",
       "  </thead>\n",
       "  <tbody>\n",
       "    <tr>\n",
       "      <th>post_id</th>\n",
       "      <td>1.0</td>\n",
       "      <td></td>\n",
       "      <td></td>\n",
       "      <td></td>\n",
       "      <td></td>\n",
       "      <td></td>\n",
       "      <td></td>\n",
       "      <td></td>\n",
       "      <td></td>\n",
       "      <td></td>\n",
       "      <td></td>\n",
       "    </tr>\n",
       "    <tr>\n",
       "      <th>polling</th>\n",
       "      <td></td>\n",
       "      <td>1.0</td>\n",
       "      <td></td>\n",
       "      <td></td>\n",
       "      <td></td>\n",
       "      <td></td>\n",
       "      <td></td>\n",
       "      <td></td>\n",
       "      <td></td>\n",
       "      <td></td>\n",
       "      <td></td>\n",
       "    </tr>\n",
       "    <tr>\n",
       "      <th>content_len</th>\n",
       "      <td></td>\n",
       "      <td></td>\n",
       "      <td>1.0</td>\n",
       "      <td></td>\n",
       "      <td></td>\n",
       "      <td></td>\n",
       "      <td></td>\n",
       "      <td></td>\n",
       "      <td></td>\n",
       "      <td></td>\n",
       "      <td></td>\n",
       "    </tr>\n",
       "    <tr>\n",
       "      <th>comments</th>\n",
       "      <td></td>\n",
       "      <td></td>\n",
       "      <td></td>\n",
       "      <td>1.0</td>\n",
       "      <td></td>\n",
       "      <td></td>\n",
       "      <td></td>\n",
       "      <td></td>\n",
       "      <td></td>\n",
       "      <td></td>\n",
       "      <td></td>\n",
       "    </tr>\n",
       "    <tr>\n",
       "      <th>favs</th>\n",
       "      <td></td>\n",
       "      <td></td>\n",
       "      <td></td>\n",
       "      <td></td>\n",
       "      <td>1.0</td>\n",
       "      <td></td>\n",
       "      <td></td>\n",
       "      <td></td>\n",
       "      <td></td>\n",
       "      <td></td>\n",
       "      <td></td>\n",
       "    </tr>\n",
       "    <tr>\n",
       "      <th>views</th>\n",
       "      <td></td>\n",
       "      <td></td>\n",
       "      <td></td>\n",
       "      <td></td>\n",
       "      <td></td>\n",
       "      <td>1.0</td>\n",
       "      <td></td>\n",
       "      <td></td>\n",
       "      <td></td>\n",
       "      <td></td>\n",
       "      <td></td>\n",
       "    </tr>\n",
       "    <tr>\n",
       "      <th>votes_plus</th>\n",
       "      <td></td>\n",
       "      <td></td>\n",
       "      <td></td>\n",
       "      <td></td>\n",
       "      <td></td>\n",
       "      <td></td>\n",
       "      <td>1.0</td>\n",
       "      <td></td>\n",
       "      <td></td>\n",
       "      <td></td>\n",
       "      <td></td>\n",
       "    </tr>\n",
       "    <tr>\n",
       "      <th>votes_minus</th>\n",
       "      <td></td>\n",
       "      <td></td>\n",
       "      <td></td>\n",
       "      <td></td>\n",
       "      <td></td>\n",
       "      <td></td>\n",
       "      <td></td>\n",
       "      <td>1.0</td>\n",
       "      <td></td>\n",
       "      <td></td>\n",
       "      <td></td>\n",
       "    </tr>\n",
       "    <tr>\n",
       "      <th>views_lognorm</th>\n",
       "      <td></td>\n",
       "      <td></td>\n",
       "      <td></td>\n",
       "      <td></td>\n",
       "      <td></td>\n",
       "      <td></td>\n",
       "      <td></td>\n",
       "      <td></td>\n",
       "      <td>1.0</td>\n",
       "      <td></td>\n",
       "      <td></td>\n",
       "    </tr>\n",
       "    <tr>\n",
       "      <th>favs_lognorm</th>\n",
       "      <td></td>\n",
       "      <td></td>\n",
       "      <td></td>\n",
       "      <td></td>\n",
       "      <td></td>\n",
       "      <td></td>\n",
       "      <td></td>\n",
       "      <td></td>\n",
       "      <td></td>\n",
       "      <td>1.0</td>\n",
       "      <td></td>\n",
       "    </tr>\n",
       "    <tr>\n",
       "      <th>comments_lognorm</th>\n",
       "      <td></td>\n",
       "      <td></td>\n",
       "      <td></td>\n",
       "      <td></td>\n",
       "      <td></td>\n",
       "      <td></td>\n",
       "      <td></td>\n",
       "      <td></td>\n",
       "      <td></td>\n",
       "      <td></td>\n",
       "      <td>1.0</td>\n",
       "    </tr>\n",
       "  </tbody>\n",
       "</table>\n",
       "</div>"
      ],
      "text/plain": [
       "                 post_id polling content_len comments favs views votes_plus  \\\n",
       "post_id              1.0                                                      \n",
       "polling                      1.0                                              \n",
       "content_len                              1.0                                  \n",
       "comments                                          1.0                         \n",
       "favs                                                   1.0                    \n",
       "views                                                        1.0              \n",
       "votes_plus                                                              1.0   \n",
       "votes_minus                                                                   \n",
       "views_lognorm                                                                 \n",
       "favs_lognorm                                                                  \n",
       "comments_lognorm                                                              \n",
       "\n",
       "                 votes_minus views_lognorm favs_lognorm comments_lognorm  \n",
       "post_id                                                                   \n",
       "polling                                                                   \n",
       "content_len                                                               \n",
       "comments                                                                  \n",
       "favs                                                                      \n",
       "views                                                                     \n",
       "votes_plus                                                                \n",
       "votes_minus              1.0                                              \n",
       "views_lognorm                          1.0                                \n",
       "favs_lognorm                                        1.0                   \n",
       "comments_lognorm                                                     1.0  "
      ]
     },
     "execution_count": 9,
     "metadata": {},
     "output_type": "execute_result"
    }
   ],
   "source": [
    "corr = train_df.corr(numeric_only=True)\n",
    "corr[corr>0.9].replace({ np.nan: '' })"
   ]
  },
  {
   "cell_type": "code",
   "execution_count": 16,
   "metadata": {},
   "outputs": [
    {
     "data": {
      "image/png": "[encoded data removed]",
      "text/plain": [
       "<Figure size 640x480 with 1 Axes>"
      ]
     },
     "metadata": {},
     "output_type": "display_data"
    }
   ],
   "source": [
    "df = train_df.copy()\n",
    "df['published'] = pd.to_datetime(df['published']).dt.year\n",
    "ss = df['published'].value_counts()\n",
    "ss.sort_index().plot(kind='bar', xlabel='Year', ylabel='Count')\n",
    "plt.show()"
   ]
  },
  {
   "cell_type": "code",
   "execution_count": null,
   "metadata": {},
   "outputs": [],
   "source": []
  },
  {
   "cell_type": "code",
   "execution_count": 19,
   "metadata": {},
   "outputs": [
    {
     "name": "stdout",
     "output_type": "stream",
     "text": [
      "Example of initial set:  134137 Size of learning set 93895\n"
     ]
    }
   ],
   "source": [
    "features = ['author', 'flow', 'domain', 'title']\n",
    "train_size = int(0.7 * train_df.shape[0])\n",
    "print('Example of initial set: ', len(train_df), 'Size of learning set', train_size)\n",
    "\n",
    "X, y = train_df.loc[:, features], train_df['favs_lognorm']\n",
    "X_test = test_df.loc[:, features]\n",
    "X_train, X_valid = X.iloc[:train_size, :], X.iloc[train_size:, :]\n",
    "y_train, y_valid = y.iloc[:train_size], y.iloc[train_size:]"
   ]
  },
  {
   "cell_type": "code",
   "execution_count": 29,
   "metadata": {},
   "outputs": [
    {
     "name": "stdout",
     "output_type": "stream",
     "text": [
      "vX_train_title.vocabulary_:  50624\n",
      "vX_valid_title.vocabulary_:  28528\n",
      "vX_test_title.vocabulary_:  2768\n",
      "X_train_title.shape:  (93895, 50624)\n",
      "X_valid_title.shape:  (40242, 50624)\n",
      "X_test_title.shape:  (3990, 50624)\n"
     ]
    }
   ],
   "source": [
    "from sklearn.feature_extraction.text import TfidfVectorizer\n",
    "\n",
    "vectorizer_title = TfidfVectorizer(min_df=3, max_df=0.3, ngram_range=(1,3))\n",
    "\n",
    "vX_train_title = vectorizer_title.fit(X_train['title'])\n",
    "print('vX_train_title.vocabulary_: ', len(vX_train_title.vocabulary_))\n",
    "vX_valid_title = vectorizer_title.fit(X_valid['title'])\n",
    "print('vX_valid_title.vocabulary_: ', len(vX_valid_title.vocabulary_))\n",
    "vX_test_title = vectorizer_title.fit(X_test['title'])\n",
    "print('vX_test_title.vocabulary_: ', len(vX_test_title.vocabulary_))\n",
    "\n",
    "X_train_title = vectorizer_title.fit_transform(X_train['title'])\n",
    "print('X_train_title.shape: ', X_train_title.shape)\n",
    "X_valid_title = vectorizer_title.transform(X_valid['title'])\n",
    "print('X_valid_title.shape: ', X_valid_title.shape)\n",
    "X_test_title = vectorizer_title.transform(X_test['title'])\n",
    "print('X_test_title.shape: ', X_test_title.shape)"
   ]
  },
  {
   "cell_type": "markdown",
   "metadata": {},
   "source": [
    "# Индивидуальное задание"
   ]
  },
  {
   "cell_type": "markdown",
   "metadata": {},
   "source": [
    "> Задание является дубликатом lr4"
   ]
  }
 ],
 "metadata": {
  "kernelspec": {
   "display_name": "Python 3",
   "language": "python",
   "name": "python3"
  },
  "language_info": {
   "codemirror_mode": {
    "name": "ipython",
    "version": 3
   },
   "file_extension": ".py",
   "mimetype": "text/x-python",
   "name": "python",
   "nbconvert_exporter": "python",
   "pygments_lexer": "ipython3",
   "version": "3.11.5"
  }
 },
 "nbformat": 4,
 "nbformat_minor": 2
}
