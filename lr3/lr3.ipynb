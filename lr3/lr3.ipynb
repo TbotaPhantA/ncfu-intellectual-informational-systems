{
 "cells": [
  {
   "cell_type": "markdown",
   "metadata": {},
   "source": [
    "## Индивидуальное задание"
   ]
  },
  {
   "cell_type": "code",
   "execution_count": 46,
   "metadata": {},
   "outputs": [
    {
     "name": "stdout",
     "output_type": "stream",
     "text": [
      "    test_size   k  accuracy  cv_accuracy\n",
      "2         0.1   3  0.230769     0.056667\n",
      "10        0.1  11  0.230769     0.080667\n",
      "9         0.1  10  0.230769     0.080667\n",
      "8         0.1   9  0.230769     0.080667\n",
      "7         0.1   8  0.230769     0.072667\n",
      "..        ...  ..       ...          ...\n",
      "84        0.3  25  0.027027     0.080333\n",
      "81        0.3  22  0.027027     0.056333\n",
      "80        0.3  21  0.027027     0.056333\n",
      "83        0.3  24  0.027027     0.064333\n",
      "82        0.3  23  0.027027     0.072667\n",
      "\n",
      "[150 rows x 4 columns]\n"
     ]
    }
   ],
   "source": [
    "import warnings\n",
    "import pandas as pd\n",
    "from sklearn.model_selection import StratifiedKFold, train_test_split, cross_val_score\n",
    "from sklearn.neighbors import KNeighborsClassifier\n",
    "from sklearn.metrics import accuracy_score\n",
    "\n",
    "with warnings.catch_warnings():\n",
    "    warnings.simplefilter(\"ignore\")\n",
    "\n",
    "    data = pd.read_csv(\"./heartDisease/processed.switzerland.csv\", delimiter=',')\n",
    "\n",
    "    X = data.drop(\"age\", axis=1)\n",
    "    y = data[\"age\"]\n",
    "\n",
    "    results_df = pd.DataFrame(columns=['test_size', 'k', 'accuracy', 'cv_accuracy']) \n",
    "\n",
    "    k_values = range(1, 31)\n",
    "    for test_size in [0.1, 0.2, 0.3, 0.4, 0.5]:\n",
    "        for k in k_values:\n",
    "            X_train, X_test, y_train, y_test = train_test_split(X, y, test_size=test_size, random_state=42)\n",
    "            knn = KNeighborsClassifier(n_neighbors=k)\n",
    "            knn.fit(X_train, y_train)\n",
    "            y_predicted = knn.predict(X_test)\n",
    "            accuracy = accuracy_score(y_test, y_predicted)\n",
    "            scores = cross_val_score(knn, X, y)\n",
    "            results_df = pd.concat([\n",
    "                results_df,\n",
    "                pd.DataFrame({\n",
    "                    'test_size': test_size,\n",
    "                    'k': [k],\n",
    "                    'accuracy': [accuracy],\n",
    "                    'cv_accuracy': scores.mean()\n",
    "                })],\n",
    "                ignore_index=True\n",
    "            )\n",
    "\n",
    "    results_df = results_df.sort_values(by='accuracy', ascending=False)\n",
    "    print(results_df)"
   ]
  },
  {
   "cell_type": "markdown",
   "metadata": {},
   "source": [
    "Таким образом самый точный результат выдаёт размер тестового набора 10% и k=3"
   ]
  }
 ],
 "metadata": {
  "kernelspec": {
   "display_name": "Python 3",
   "language": "python",
   "name": "python3"
  },
  "language_info": {
   "codemirror_mode": {
    "name": "ipython",
    "version": 3
   },
   "file_extension": ".py",
   "mimetype": "text/x-python",
   "name": "python",
   "nbconvert_exporter": "python",
   "pygments_lexer": "ipython3",
   "version": "3.11.5"
  }
 },
 "nbformat": 4,
 "nbformat_minor": 2
}
