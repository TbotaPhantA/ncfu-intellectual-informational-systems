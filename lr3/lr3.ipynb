{
 "cells": [
  {
   "cell_type": "markdown",
   "metadata": {},
   "source": [
    "## Индивидуальное задание"
   ]
  },
  {
   "cell_type": "code",
   "execution_count": 1,
   "metadata": {},
   "outputs": [
    {
     "name": "stdout",
     "output_type": "stream",
     "text": [
      "     test_size   k  accuracy  cv_accuracy\n",
      "116        0.4  27  0.460000     0.406667\n",
      "118        0.4  29  0.440000     0.390667\n",
      "119        0.4  30  0.440000     0.374000\n",
      "137        0.5  18  0.435484     0.398000\n",
      "65         0.3   6  0.432432     0.365667\n",
      "..         ...  ..       ...          ...\n",
      "27         0.1  28  0.153846     0.358000\n",
      "1          0.1   2  0.076923     0.260333\n",
      "3          0.1   4  0.000000     0.309667\n",
      "4          0.1   5  0.000000     0.318000\n",
      "2          0.1   3  0.000000     0.301000\n",
      "\n",
      "[150 rows x 4 columns]\n"
     ]
    }
   ],
   "source": [
    "import warnings\n",
    "import pandas as pd\n",
    "from sklearn.model_selection import StratifiedKFold, train_test_split, cross_val_score\n",
    "from sklearn.neighbors import KNeighborsClassifier\n",
    "from sklearn.metrics import accuracy_score\n",
    "\n",
    "with warnings.catch_warnings():\n",
    "    warnings.simplefilter(\"ignore\")\n",
    "\n",
    "    # Загрузка данных о сердечных заболеваниях в Швейцарии\n",
    "    data = pd.read_csv(\"./heartDisease/processed.switzerland.csv\", delimiter=',')\n",
    "\n",
    "    # Разделение данных на целевую переменную и данные для обучения\n",
    "    X = data.drop(\"num\", axis=1)\n",
    "    y = data[\"num\"]\n",
    "\n",
    "    # DataFrame для результатов измерения точности предсказывания\n",
    "    results_df = pd.DataFrame(columns=['test_size', 'k', 'accuracy', 'cv_accuracy']) \n",
    "\n",
    "    # перебор k значений от 1 до 31 и долей тестовых данных от [0.1 до 0.5]\n",
    "    k_values = range(1, 31)\n",
    "    for test_size in [0.1, 0.2, 0.3, 0.4, 0.5]:\n",
    "        for k in k_values:\n",
    "            X_train, X_test, y_train, y_test = train_test_split(X, y, test_size=test_size, random_state=42)\n",
    "            # обучнеие и измерение точности\n",
    "            knn = KNeighborsClassifier(n_neighbors=k)\n",
    "            knn.fit(X_train, y_train)\n",
    "            y_predicted = knn.predict(X_test)\n",
    "            accuracy = accuracy_score(y_test, y_predicted)\n",
    "            scores = cross_val_score(knn, X, y)\n",
    "            results_df = pd.concat([\n",
    "                results_df,\n",
    "                pd.DataFrame({\n",
    "                    'test_size': test_size,\n",
    "                    'k': [k],\n",
    "                    'accuracy': [accuracy],\n",
    "                    'cv_accuracy': scores.mean()\n",
    "                })],\n",
    "                ignore_index=True\n",
    "            )\n",
    "\n",
    "    results_df = results_df.sort_values(by='accuracy', ascending=False)\n",
    "    print(results_df)"
   ]
  },
  {
   "cell_type": "markdown",
   "metadata": {},
   "source": [
    "Таким образом самый точный результат выдаёт размер тестового набора 40% и k=27"
   ]
  }
 ],
 "metadata": {
  "kernelspec": {
   "display_name": "Python 3",
   "language": "python",
   "name": "python3"
  },
  "language_info": {
   "codemirror_mode": {
    "name": "ipython",
    "version": 3
   },
   "file_extension": ".py",
   "mimetype": "text/x-python",
   "name": "python",
   "nbconvert_exporter": "python",
   "pygments_lexer": "ipython3",
   "version": "3.11.5"
  }
 },
 "nbformat": 4,
 "nbformat_minor": 2
}
